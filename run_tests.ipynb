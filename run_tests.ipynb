{
 "cells": [
  {
   "cell_type": "code",
   "execution_count": 1,
   "metadata": {},
   "outputs": [],
   "source": [
    "import numpy as np\n",
    "import networkx as nx\n",
    "import time"
   ]
  },
  {
   "cell_type": "code",
   "execution_count": 2,
   "metadata": {},
   "outputs": [],
   "source": [
    "# Import 2QAN compiler passes\n",
    "from bench_arch import BenchArch\n",
    "from heuristic_mapper import HeuristicMapper\n",
    "from qrouter_depth import QuRouter"
   ]
  },
  {
   "cell_type": "code",
   "execution_count": 3,
   "metadata": {},
   "outputs": [],
   "source": [
    "from qiskit import transpile\n",
    "from qiskit.transpiler.passes import DenseLayout, SabreLayout\n",
    "from qiskit.transpiler import CouplingMap\n",
    "from qiskit.converters import *\n",
    "\n",
    "from tket_compiler import TketCompile"
   ]
  },
  {
   "cell_type": "code",
   "execution_count": 4,
   "metadata": {},
   "outputs": [],
   "source": [
    "def fill_partial_mapping(partial_map, coupling_map):\n",
    "    final_map = partial_map.copy()\n",
    "    n_qbts = len(partial_map)\n",
    "    device_qubits = []\n",
    "    for edge in coupling_map:\n",
    "        for q in edge:\n",
    "            if q not in device_qubits:\n",
    "                device_qubits.append(q)\n",
    "    unused_dqs = [q for q in device_qubits if q not in partial_map.values()]\n",
    "    for i in range(len(unused_dqs)):\n",
    "        final_map[n_qbts+i]=unused_dqs[i]\n",
    "    return final_map"
   ]
  },
  {
   "cell_type": "markdown",
   "metadata": {},
   "source": [
    "## Run 2QAN compiler passes"
   ]
  },
  {
   "cell_type": "code",
   "execution_count": 5,
   "metadata": {},
   "outputs": [],
   "source": [
    "def qs_compiler(benchmark, coupling_map, lattice_xy, trials=1, mapper='qap', bgate='cx', basis_gates=None, recompile=True):\n",
    "    qs_circ = None\n",
    "    qs_swap = [0, 0]\n",
    "    qs_g2 = 0\n",
    "    if recompile:\n",
    "        for trial in range(trials):\n",
    "            # Initial qubit mapping \n",
    "            start = time.time()\n",
    "            if mapper == 'qap':\n",
    "                # The default mapper based on Quadratic Assignment Problem\n",
    "                mapper = HeuristicMapper(benchmark.copy(), lattice_xy=lattice_xy, coupling_map=coupling_map)\n",
    "                init_map, cost = mapper.run(output='mapper', num_iter=200, lst_len=20)\n",
    "            elif mapper == 'qiskit':\n",
    "                # The mapper in Qiskit\n",
    "                mapper = SabreLayout(CouplingMap(coupling_map),max_iterations=5)\n",
    "                mapper.run(circuit_to_dag(benchmark.copy()))\n",
    "                vpmap = mapper.property_set[\"layout\"].get_virtual_bits()\n",
    "                init_map0 = {}\n",
    "                for k,v in vpmap.items():\n",
    "                    init_map0[k.index]=v\n",
    "                init_map = fill_partial_mapping(init_map0, coupling_map)\n",
    "            elif mapper == 'tket':\n",
    "                # The mapper in tket\n",
    "                tket_mapper = TketCompile(benchmark.copy(), lattice_xy=lattice_xy, coupling_map=coupling_map)\n",
    "                init_map = tket_mapper.placement()\n",
    "            end = time.time()\n",
    "            print(\"Mapper run time: \", end - start)\n",
    "            # Routing and scheduling, takes init_map as input\n",
    "            # init_map = {circuit qubit index:device qubit index}\n",
    "            print('The inital qubit map is \\n', init_map)\n",
    "            router = QuRouter(benchmark.copy(), lattice_xy=lattice_xy, init_map=init_map, coupling_map=coupling_map)\n",
    "            qs_circ0, swaps1 = router.run(layers=1, msmt='True')\n",
    "            \n",
    "            # Gate count \n",
    "            qs_circ1 = transpile(qs_circ0, basis_gates=None, optimization_level=3)\n",
    "            g2_count1 = 0\n",
    "            g2_count1 += qs_circ1.count_ops()[bgate]\n",
    "            if 'unitary' in qs_circ1.count_ops():\n",
    "                g2_count1 += qs_circ1.count_ops()['unitary']\n",
    "            if 'swap' in qs_circ1.count_ops():\n",
    "                g2_count1 += qs_circ1.count_ops()['swap']\n",
    "            if trial == 0:\n",
    "                qs_circ = qs_circ1\n",
    "                qs_swap = swaps1\n",
    "                qs_g2 = g2_count1 \n",
    "            elif g2_count1 < qs_g2:\n",
    "                qs_circ = qs_circ1\n",
    "                qs_swap = swaps1\n",
    "                qs_g2 = g2_count1\n",
    "    else:\n",
    "        qs_circ = transpile(benchmark.copy(), basis_gates=basis_gates, optimization_level=3)\n",
    "        qs_g2 += qs_circ.count_ops()[bgate] \n",
    "        if 'unitary' in qs_circ.count_ops().keys():\n",
    "            qs_g2 += qs_circ.count_ops()['unitary']\n",
    "    return qs_circ, qs_swap, qs_g2"
   ]
  },
  {
   "cell_type": "markdown",
   "metadata": {},
   "source": [
    "## Tests"
   ]
  },
  {
   "cell_type": "code",
   "execution_count": 6,
   "metadata": {},
   "outputs": [],
   "source": [
    "import os\n",
    "import pickle as pkl\n",
    "import qiskit\n",
    "# Benchmarks\n",
    "# with open(os.path.join('qaoa_qasms.pkl'), 'rb') as f:\n",
    "#     qasms = pkl.load(f)\n",
    "with open(os.path.join('nnn_ising_qasms.pkl'), 'rb') as f:\n",
    "    qasms = pkl.load(f)\n",
    "# qasms = []\n",
    "# for c in qaoas:\n",
    "#     qasms.append(c.qasm())\n",
    "circs = [qiskit.QuantumCircuit.from_qasm_str(qasm) for qasm in qasms]\n",
    "test_circ = circs[-2]\n",
    "# with open(os.path.join('nnn_ising_qasms.pkl'), 'wb') as f:\n",
    "#     pkl.dump(qasms, f)  "
   ]
  },
  {
   "cell_type": "code",
   "execution_count": 7,
   "metadata": {},
   "outputs": [
    {
     "name": "stdout",
     "output_type": "stream",
     "text": [
      "The number of qubits is  40\n"
     ]
    }
   ],
   "source": [
    "# Device information\n",
    "# gate set\n",
    "basis_gates = ['id', 'rz', 'u3', 'u2', 'cx', 'reset']\n",
    "\n",
    "# topology\n",
    "qn = len(test_circ.qubits)\n",
    "dx = int(np.sqrt(qn))\n",
    "print('The number of qubits is ', qn)\n",
    "if dx*dx >= qn:\n",
    "    lattice_xy = (dx, dx)\n",
    "elif dx*(dx+1) >= qn:\n",
    "    lattice_xy = (dx, dx+1)\n",
    "elif dx*(dx+2) >= qn:\n",
    "    lattice_xy = (dx, dx+2)\n",
    "grid_topology = BenchArch(test_circ, lattice_xy=lattice_xy).topology\n",
    "coupling_map = [list(edge) for edge in list(grid_topology.edges)]\n",
    "coupling_map += [[edge[1], edge[0]] for edge in list(grid_topology.edges)]"
   ]
  },
  {
   "cell_type": "markdown",
   "metadata": {},
   "source": [
    "## QAP mapper + 2QAN routing&scheduling"
   ]
  },
  {
   "cell_type": "code",
   "execution_count": 8,
   "metadata": {},
   "outputs": [
    {
     "name": "stdout",
     "output_type": "stream",
     "text": [
      "Mapper run time:  256.94903111457825\n",
      "The inital qubit map is \n",
      " {0: 8, 1: 20, 2: 14, 3: 21, 4: 15, 5: 16, 6: 17, 7: 11, 8: 5, 9: 10, 10: 4, 11: 9, 12: 3, 13: 2, 14: 1, 15: 7, 16: 6, 17: 13, 18: 12, 19: 18, 20: 24, 21: 30, 22: 36, 23: 31, 24: 37, 25: 25, 26: 38, 27: 26, 28: 32, 29: 27, 30: 33, 31: 39, 32: 40, 33: 41, 34: 34, 35: 35, 36: 28, 37: 29, 38: 22, 39: 23, 40: 0, 41: 19}\n",
      "The number of SWAPs:  (22, 17)\n"
     ]
    }
   ],
   "source": [
    "qs_circ, qs_swap, qs_g2 = qs_compiler(test_circ, coupling_map, lattice_xy, bgate='rzz', basis_gates=basis_gates, recompile=True)\n",
    "print('The number of SWAPs: ', qs_swap)"
   ]
  },
  {
   "cell_type": "code",
   "execution_count": 9,
   "metadata": {},
   "outputs": [
    {
     "name": "stdout",
     "output_type": "stream",
     "text": [
      "The number of CNOTs:  186\n"
     ]
    }
   ],
   "source": [
    "qs_circ2, qs_swap, qs_g2 = qs_compiler(qs_circ, coupling_map, lattice_xy, bgate='cx', basis_gates=basis_gates, recompile=False)\n",
    "print('The number of CNOTs: ', qs_g2)"
   ]
  },
  {
   "cell_type": "markdown",
   "metadata": {},
   "source": [
    "## CQ tket mapper + 2QAN routing&scheduling"
   ]
  },
  {
   "cell_type": "code",
   "execution_count": 10,
   "metadata": {},
   "outputs": [
    {
     "name": "stdout",
     "output_type": "stream",
     "text": [
      "Mapper run time:  0.02393627166748047\n",
      "The inital qubit map is \n",
      " {0: 6, 1: 7, 2: 8, 3: 2, 4: 3, 5: 4, 6: 5, 7: 11, 8: 10, 9: 9, 10: 15, 11: 14, 12: 13, 13: 12, 14: 18, 15: 19, 16: 20, 17: 21, 18: 22, 19: 16, 20: 17, 21: 23, 22: 29, 23: 28, 24: 27, 25: 26, 26: 25, 27: 24, 28: 30, 29: 31, 30: 32, 31: 33, 32: 34, 33: 35, 34: 41, 35: 40, 36: 39, 37: 38, 38: 37, 39: 36, 40: 0, 41: 1}\n",
      "The number of SWAPs:  (29, 16)\n"
     ]
    }
   ],
   "source": [
    "tket_circ, tket_swap, tket_g2 = qs_compiler(test_circ, coupling_map, lattice_xy, bgate='rzz', mapper='tket', basis_gates=basis_gates, recompile=True)\n",
    "print('The number of SWAPs: ', tket_swap)"
   ]
  },
  {
   "cell_type": "code",
   "execution_count": 11,
   "metadata": {},
   "outputs": [
    {
     "name": "stdout",
     "output_type": "stream",
     "text": [
      "The number of CNOTs:  209\n"
     ]
    }
   ],
   "source": [
    "tket_circ2, tket_swap, tket_g2 = qs_compiler(tket_circ, coupling_map, lattice_xy, bgate='cx', basis_gates=basis_gates, recompile=False)\n",
    "print('The number of CNOTs: ', tket_g2)"
   ]
  },
  {
   "cell_type": "markdown",
   "metadata": {},
   "source": [
    "## Tket compiler"
   ]
  },
  {
   "cell_type": "code",
   "execution_count": 12,
   "metadata": {},
   "outputs": [
    {
     "name": "stdout",
     "output_type": "stream",
     "text": [
      "The number of CNOTs:  403\n"
     ]
    }
   ],
   "source": [
    "tket = TketCompile(test_circ, coupling_map=coupling_map)\n",
    "tket_circ = tket.default_tket()\n",
    "tket_cx = tket_circ.count_ops()['cx']\n",
    "print('The number of CNOTs: ', tket_cx)"
   ]
  },
  {
   "cell_type": "markdown",
   "metadata": {},
   "source": [
    "## Qiskit SABRE mapper (by Gushu Li) + 2QAN routing&scheduling"
   ]
  },
  {
   "cell_type": "code",
   "execution_count": 13,
   "metadata": {},
   "outputs": [
    {
     "name": "stderr",
     "output_type": "stream",
     "text": [
      "<ipython-input-5-73957886cf9d>:20: DeprecationWarning: Back-references to from Bit instances to their containing Registers have been deprecated. Instead, inspect Registers to find their contained Bits.\n",
      "  init_map0[k.index]=v\n"
     ]
    },
    {
     "name": "stdout",
     "output_type": "stream",
     "text": [
      "Mapper run time:  1.7593185901641846\n",
      "The inital qubit map is \n",
      " {0: 36, 1: 30, 2: 24, 3: 18, 4: 12, 5: 6, 6: 1, 7: 14, 8: 13, 9: 7, 10: 8, 11: 2, 12: 3, 13: 15, 14: 16, 15: 9, 16: 4, 17: 10, 18: 17, 19: 5, 20: 11, 21: 23, 22: 22, 23: 21, 24: 20, 25: 26, 26: 25, 27: 19, 28: 31, 29: 38, 30: 32, 31: 37, 32: 39, 33: 33, 34: 27, 35: 28, 36: 40, 37: 35, 38: 34, 39: 41, 40: 0, 41: 29}\n",
      "The number of SWAPs:  (26, 16)\n"
     ]
    }
   ],
   "source": [
    "ibm_circ, ibm_swap, ibm_g2 = qs_compiler(test_circ, coupling_map, lattice_xy, trials=1, bgate='rzz', mapper='qiskit', basis_gates=basis_gates, recompile=True)\n",
    "print('The number of SWAPs: ', ibm_swap)"
   ]
  },
  {
   "cell_type": "code",
   "execution_count": 14,
   "metadata": {},
   "outputs": [
    {
     "name": "stdout",
     "output_type": "stream",
     "text": [
      "The number of CNOTs:  200\n"
     ]
    }
   ],
   "source": [
    "ibm_circ2, ibm_swap, ibm_g2 = qs_compiler(ibm_circ, coupling_map, lattice_xy, bgate='cx', basis_gates=basis_gates, recompile=False)\n",
    "print('The number of CNOTs: ', ibm_g2)"
   ]
  },
  {
   "cell_type": "code",
   "execution_count": 15,
   "metadata": {},
   "outputs": [
    {
     "name": "stdout",
     "output_type": "stream",
     "text": [
      "The number of iSWAPs:  200\n"
     ]
    }
   ],
   "source": [
    "from multi_decomposer import run_decompose\n",
    "ibm_circ3, ibm_g3 = run_decompose(ibm_circ, bgate='iswap', params=[np.pi/2, 0], num_threads=1)\n",
    "print('The number of iSWAPs: ', ibm_g3)"
   ]
  },
  {
   "cell_type": "code",
   "execution_count": 16,
   "metadata": {},
   "outputs": [
    {
     "name": "stdout",
     "output_type": "stream",
     "text": [
      "The number of SYCs:  200\n"
     ]
    }
   ],
   "source": [
    "ibm_circ4, ibm_g4 = run_decompose(ibm_circ, bgate='syc', params=[np.pi/2, np.pi/6], num_threads=1)\n",
    "print('The number of SYCs: ', ibm_g4)"
   ]
  },
  {
   "cell_type": "markdown",
   "metadata": {},
   "source": [
    "## Qiskit compiler"
   ]
  },
  {
   "cell_type": "code",
   "execution_count": 17,
   "metadata": {},
   "outputs": [
    {
     "name": "stdout",
     "output_type": "stream",
     "text": [
      "The number of CNOTs:  624\n"
     ]
    }
   ],
   "source": [
    "qiskit_circ = transpile(test_circ, basis_gates=basis_gates, coupling_map=coupling_map, optimization_level=3)\n",
    "print('The number of CNOTs: ', qiskit_circ.count_ops()['cx'])"
   ]
  }
 ],
 "metadata": {
  "kernelspec": {
   "display_name": "Python 3",
   "language": "python",
   "name": "python3"
  },
  "language_info": {
   "codemirror_mode": {
    "name": "ipython",
    "version": 3
   },
   "file_extension": ".py",
   "mimetype": "text/x-python",
   "name": "python",
   "nbconvert_exporter": "python",
   "pygments_lexer": "ipython3",
   "version": "3.8.5"
  }
 },
 "nbformat": 4,
 "nbformat_minor": 4
}
