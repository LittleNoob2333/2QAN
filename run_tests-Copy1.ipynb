{
 "cells": [
  {
   "cell_type": "code",
   "execution_count": 1,
   "metadata": {},
   "outputs": [],
   "source": [
    "import numpy as np\n",
    "import networkx as nx\n",
    "import time"
   ]
  },
  {
   "cell_type": "code",
   "execution_count": 2,
   "metadata": {},
   "outputs": [],
   "source": [
    "# Import 2QAN compiler passes\n",
    "from bench_arch import BenchArch\n",
    "from heuristic_mapper import HeuristicMapper\n",
    "from qrouter_depth import QuRouter"
   ]
  },
  {
   "cell_type": "code",
   "execution_count": 9,
   "metadata": {},
   "outputs": [],
   "source": [
    "# Import qiskit \n",
    "from qiskit import transpile, QuantumCircuit"
   ]
  },
  {
   "cell_type": "code",
   "execution_count": 4,
   "metadata": {},
   "outputs": [],
   "source": [
    "# run qaoa and run other trotter"
   ]
  },
  {
   "cell_type": "markdown",
   "metadata": {},
   "source": [
    "## Run 2QAN compiler passes"
   ]
  },
  {
   "cell_type": "code",
   "execution_count": 10,
   "metadata": {},
   "outputs": [],
   "source": [
    "def qs_compiler(qasm, coupling_map, lattice_xy, trials=1, mapper='qap', bgate='cx', basis_gates=None, recompile=True):\n",
    "    qs_circ = None\n",
    "    qs_swap = [0, 0]\n",
    "    qs_g2 = 0\n",
    "    if recompile:\n",
    "        benchmark = QuantumCircuit.from_qasm_str(qasm)\n",
    "        for trial in range(trials):\n",
    "            # Initial qubit mapping \n",
    "            start = time.time()\n",
    "            hmapper = HeuristicMapper(qasm, lattice_xy=lattice_xy, coupling_map=coupling_map)\n",
    "            if mapper == 'qap':\n",
    "                # The default mapper based on Quadratic Assignment Problem\n",
    "                init_map, cost = hmapper.run_qap(num_iter=200, lst_len=20)\n",
    "            elif mapper == 'qiskit':\n",
    "                # The mapper in Qiskit\n",
    "                init_map = hmapper.run_qiskit(max_iterations=5)\n",
    "            end = time.time()\n",
    "            print(\"Mapper run time: \", end - start)\n",
    "            # Routing and scheduling, takes init_map as input\n",
    "            # init_map = {circuit qubit index:device qubit index}\n",
    "            print('The initial qubit map is \\n', init_map)\n",
    "            router = QuRouter(qasm, lattice_xy=lattice_xy, init_map=init_map, coupling_map=coupling_map)\n",
    "            qs_circ0, swaps1 = router.run(layers=1, msmt='True')\n",
    "            \n",
    "            # Gate count \n",
    "            qs_circ1 = transpile(qs_circ0, basis_gates=None, optimization_level=3)\n",
    "            g2_count1 = 0\n",
    "            g2_count1 += qs_circ1.count_ops()[bgate]\n",
    "            if 'unitary' in qs_circ1.count_ops():\n",
    "                g2_count1 += qs_circ1.count_ops()['unitary']\n",
    "            if 'swap' in qs_circ1.count_ops():\n",
    "                g2_count1 += qs_circ1.count_ops()['swap']\n",
    "            if trial == 0:\n",
    "                qs_circ = qs_circ1\n",
    "                qs_swap = swaps1\n",
    "                qs_g2 = g2_count1 \n",
    "            elif g2_count1 < qs_g2:\n",
    "                qs_circ = qs_circ1\n",
    "                qs_swap = swaps1\n",
    "                qs_g2 = g2_count1\n",
    "            print(g2_count1, qs_swap)\n",
    "    else:\n",
    "        qs_circ = transpile(qasm, basis_gates=basis_gates, optimization_level=3)\n",
    "        qs_g2 += qs_circ.count_ops()[bgate] \n",
    "        if 'unitary' in qs_circ.count_ops().keys():\n",
    "            qs_g2 += qs_circ.count_ops()['unitary']\n",
    "    return qs_circ, qs_swap, qs_g2"
   ]
  },
  {
   "cell_type": "markdown",
   "metadata": {},
   "source": [
    "## Tests"
   ]
  },
  {
   "cell_type": "code",
   "execution_count": 6,
   "metadata": {},
   "outputs": [],
   "source": [
    "import os\n",
    "import pickle as pkl\n",
    "import qiskit\n",
    "# Benchmarks\n",
    "with open(os.path.join('qaoa_qasms.pkl'), 'rb') as f:\n",
    "    qasms = pkl.load(f)\n",
    "# with open(os.path.join('nnn_ising_qasms.pkl'), 'rb') as f:\n",
    "#     qasms = pkl.load(f)\n",
    "# qasms = []\n",
    "# for c in qaoas:\n",
    "#     qasms.append(c.qasm())\n",
    "circs = [qiskit.QuantumCircuit.from_qasm_str(qasm) for qasm in qasms]\n",
    "test_circ = circs[-2]\n",
    "c_qasm = qasms[-2]\n",
    "# with open(os.path.join('nnn_ising_qasms.pkl'), 'wb') as f:\n",
    "#     pkl.dump(qasms, f)  "
   ]
  },
  {
   "cell_type": "code",
   "execution_count": 7,
   "metadata": {},
   "outputs": [
    {
     "name": "stdout",
     "output_type": "stream",
     "text": [
      "The number of qubits is  20\n"
     ]
    }
   ],
   "source": [
    "# Device information\n",
    "# gate set\n",
    "basis_gates = ['id', 'rz', 'u3', 'u2', 'cx', 'reset']\n",
    "\n",
    "# topology\n",
    "qn = len(test_circ.qubits)\n",
    "dx = int(np.sqrt(qn))\n",
    "print('The number of qubits is ', qn)\n",
    "if dx*dx >= qn:\n",
    "    lattice_xy = (dx, dx)\n",
    "elif dx*(dx+1) >= qn:\n",
    "    lattice_xy = (dx, dx+1)\n",
    "elif dx*(dx+2) >= qn:\n",
    "    lattice_xy = (dx, dx+2)\n",
    "grid_topology = BenchArch(c_qasm, lattice_xy=lattice_xy).topology\n",
    "coupling_map = [list(edge) for edge in list(grid_topology.edges)]\n",
    "coupling_map += [[edge[1], edge[0]] for edge in list(grid_topology.edges)]"
   ]
  },
  {
   "cell_type": "markdown",
   "metadata": {},
   "source": [
    "## QAP mapper + 2QAN routing&scheduling"
   ]
  },
  {
   "cell_type": "code",
   "execution_count": 11,
   "metadata": {},
   "outputs": [
    {
     "name": "stdout",
     "output_type": "stream",
     "text": [
      "Mapper run time:  13.580049753189087\n",
      "The inital qubit map is \n",
      " {0: 2, 1: 13, 2: 12, 3: 14, 4: 5, 5: 18, 6: 4, 7: 6, 8: 11, 9: 10, 10: 8, 11: 9, 12: 7, 13: 3, 14: 17, 15: 19, 16: 0, 17: 15, 18: 1, 19: 16}\n",
      "33 (8, 5)\n",
      "Mapper run time:  13.711404800415039\n",
      "The inital qubit map is \n",
      " {0: 0, 1: 14, 2: 10, 3: 18, 4: 3, 5: 19, 6: 7, 7: 9, 8: 12, 9: 5, 10: 2, 11: 13, 12: 8, 13: 4, 14: 15, 15: 17, 16: 6, 17: 16, 18: 1, 19: 11}\n",
      "32 (9, 7)\n",
      "Mapper run time:  13.605650424957275\n",
      "The inital qubit map is \n",
      " {0: 9, 1: 5, 2: 12, 3: 1, 4: 17, 5: 0, 6: 19, 7: 15, 8: 7, 9: 14, 10: 16, 11: 6, 12: 11, 13: 10, 14: 4, 15: 2, 16: 18, 17: 3, 18: 13, 19: 8}\n",
      "33 (9, 7)\n",
      "Mapper run time:  13.490565776824951\n",
      "The inital qubit map is \n",
      " {0: 17, 1: 10, 2: 3, 3: 14, 4: 6, 5: 11, 6: 0, 7: 4, 8: 13, 9: 8, 10: 2, 11: 9, 12: 12, 13: 16, 14: 15, 15: 19, 16: 1, 17: 18, 18: 5, 19: 7}\n",
      "35 (9, 7)\n",
      "Mapper run time:  13.866186380386353\n",
      "The inital qubit map is \n",
      " {0: 10, 1: 13, 2: 16, 3: 14, 4: 4, 5: 18, 6: 0, 7: 1, 8: 7, 9: 2, 10: 12, 11: 5, 12: 3, 13: 6, 14: 19, 15: 15, 16: 8, 17: 11, 18: 9, 19: 17}\n",
      "35 (9, 7)\n",
      "The number of SWAPs:  (9, 7) 32\n"
     ]
    }
   ],
   "source": [
    "qs_circ, qs_swap, qs_g2 = qs_compiler(c_qasm, coupling_map, lattice_xy, trials=5, bgate='rzz', basis_gates=basis_gates, recompile=True)\n",
    "print('The number of SWAPs: ', qs_swap, qs_g2)"
   ]
  },
  {
   "cell_type": "code",
   "execution_count": 12,
   "metadata": {},
   "outputs": [
    {
     "name": "stdout",
     "output_type": "stream",
     "text": [
      "The number of CNOTs:  73\n"
     ]
    }
   ],
   "source": [
    "qs_circ2, qs_swap, qs_g2 = qs_compiler(qs_circ, coupling_map, lattice_xy, bgate='cx', basis_gates=basis_gates, recompile=False)\n",
    "print('The number of CNOTs: ', qs_g2)"
   ]
  },
  {
   "cell_type": "markdown",
   "metadata": {},
   "source": [
    "## Qiskit SABRE mapper (by Gushu Li) + 2QAN routing&scheduling"
   ]
  },
  {
   "cell_type": "code",
   "execution_count": 15,
   "metadata": {},
   "outputs": [
    {
     "name": "stdout",
     "output_type": "stream",
     "text": [
      "Mapper run time:  0.24879240989685059\n",
      "The inital qubit map is \n",
      " {0: 19, 1: 6, 2: 10, 3: 1, 4: 16, 5: 3, 6: 17, 7: 4, 8: 9, 9: 8, 10: 18, 11: 0, 12: 5, 13: 12, 14: 7, 15: 2, 16: 14, 17: 15, 18: 13, 19: 11}\n",
      "38 (15, 7)\n",
      "Mapper run time:  0.24345064163208008\n",
      "The inital qubit map is \n",
      " {0: 4, 1: 14, 2: 18, 3: 9, 4: 15, 5: 17, 6: 11, 7: 3, 8: 1, 9: 6, 10: 19, 11: 5, 12: 2, 13: 7, 14: 12, 15: 8, 16: 10, 17: 0, 18: 13, 19: 16}\n",
      "37 (10, 3)\n",
      "Mapper run time:  0.24016070365905762\n",
      "The inital qubit map is \n",
      " {0: 10, 1: 11, 2: 7, 3: 18, 4: 1, 5: 19, 6: 0, 7: 8, 8: 12, 9: 13, 10: 2, 11: 17, 12: 16, 13: 6, 14: 15, 15: 14, 16: 4, 17: 9, 18: 5, 19: 3}\n",
      "34 (12, 8)\n",
      "Mapper run time:  0.25244784355163574\n",
      "The inital qubit map is \n",
      " {0: 15, 1: 1, 2: 4, 3: 2, 4: 14, 5: 3, 6: 12, 7: 8, 8: 5, 9: 9, 10: 16, 11: 0, 12: 17, 13: 13, 14: 7, 15: 6, 16: 18, 17: 11, 18: 19, 19: 10}\n",
      "39 (12, 8)\n",
      "Mapper run time:  0.3171579837799072\n",
      "The inital qubit map is \n",
      " {0: 6, 1: 18, 2: 19, 3: 8, 4: 3, 5: 14, 6: 7, 7: 2, 8: 0, 9: 9, 10: 15, 11: 13, 12: 1, 13: 4, 14: 16, 15: 12, 16: 11, 17: 5, 18: 10, 19: 17}\n",
      "35 (12, 8)\n",
      "The number of SWAPs:  [0, 0] 73\n"
     ]
    }
   ],
   "source": [
    "ibm_circ, ibm_swap, ibm_g2 = qs_compiler(c_qasm, coupling_map, lattice_xy, trials=5, mapper='qiskit', bgate='rzz', basis_gates=basis_gates, recompile=True)\n",
    "print('The number of SWAPs: ', ibm_swap, ibm_g2)"
   ]
  },
  {
   "cell_type": "code",
   "execution_count": 16,
   "metadata": {},
   "outputs": [
    {
     "name": "stdout",
     "output_type": "stream",
     "text": [
      "The number of CNOTs:  80\n"
     ]
    }
   ],
   "source": [
    "ibm_circ2, ibm_swap, ibm_g2 = qs_compiler(ibm_circ, coupling_map, lattice_xy, bgate='cx', basis_gates=basis_gates, recompile=False)\n",
    "print('The number of CNOTs: ', ibm_g2)"
   ]
  },
  {
   "cell_type": "markdown",
   "metadata": {},
   "source": [
    "## Qiskit compiler"
   ]
  },
  {
   "cell_type": "code",
   "execution_count": 26,
   "metadata": {},
   "outputs": [
    {
     "name": "stdout",
     "output_type": "stream",
     "text": [
      "The number of CNOTs:  107\n"
     ]
    }
   ],
   "source": [
    "qiskit_circ = transpile(test_circ, basis_gates=basis_gates, coupling_map=coupling_map, optimization_level=3)\n",
    "print('The number of CNOTs: ', qiskit_circ.count_ops()['cx'])"
   ]
  }
 ],
 "metadata": {
  "kernelspec": {
   "display_name": "Python 3",
   "language": "python",
   "name": "python3"
  },
  "language_info": {
   "codemirror_mode": {
    "name": "ipython",
    "version": 3
   },
   "file_extension": ".py",
   "mimetype": "text/x-python",
   "name": "python",
   "nbconvert_exporter": "python",
   "pygments_lexer": "ipython3",
   "version": "3.8.5"
  }
 },
 "nbformat": 4,
 "nbformat_minor": 4
}
