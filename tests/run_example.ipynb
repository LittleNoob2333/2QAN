{
 "cells": [
  {
   "cell_type": "code",
   "execution_count": 1,
   "metadata": {},
   "outputs": [],
   "source": [
    "import numpy as np\n",
    "import time"
   ]
  },
  {
   "cell_type": "code",
   "execution_count": 2,
   "metadata": {},
   "outputs": [],
   "source": [
    "# Import 2QAN compiler passes\n",
    "from py2qan import BenchArch\n",
    "from py2qan import HeuristicMapper\n",
    "from py2qan import QuRouter"
   ]
  },
  {
   "cell_type": "code",
   "execution_count": 3,
   "metadata": {},
   "outputs": [],
   "source": [
    "# Import qiskit \n",
    "import qiskit\n",
    "from qiskit import transpile, QuantumCircuit"
   ]
  },
  {
   "cell_type": "markdown",
   "metadata": {},
   "source": [
    "## Run 2QAN compiler passes"
   ]
  },
  {
   "cell_type": "code",
   "execution_count": 4,
   "metadata": {},
   "outputs": [],
   "source": [
    "def qs_compiler(qasm, coupling_map, qaoa=True, layers=1, trials=1, mapper='qap', bgate='rzz', params=None):\n",
    "    qs_circ = None\n",
    "    qs_swap = (0, 0) # the number of swaps in the format (#swaps,#swaps merged with circuit gate)\n",
    "    qs_g2 = 0 # the number of two-qubit gates without decomposition\n",
    "    # Perform qubit mapping, routing, and scheduling only, without gate decomposition\n",
    "    for trial in range(trials):\n",
    "        # Both QAP and Qiskit mappers output inital qubit maps randomly, \n",
    "        # one can run the mapper several times to achieve better compilation results\n",
    "        # Initial qubit mapping \n",
    "        start = time.time()\n",
    "        hmapper = HeuristicMapper(qasm, coupling_map=coupling_map)\n",
    "        if mapper == 'qap':\n",
    "            # The default mapper based on Quadratic Assignment Problem\n",
    "            init_map, cost = hmapper.run_qap(num_iter=200, lst_len=20)\n",
    "        elif mapper == 'qiskit':\n",
    "            # The mapper in Qiskit\n",
    "            init_map = hmapper.run_qiskit(max_iterations=5)\n",
    "        end = time.time()\n",
    "        print(\"Mapper run time: \", end - start)\n",
    "        # init_map = {circuit qubit index:device qubit index}\n",
    "        print('The initial qubit map is \\n', init_map)\n",
    "\n",
    "        # Routing and scheduling, takes init_map as input\n",
    "        router = QuRouter(qasm, init_map=init_map, coupling_map=coupling_map)\n",
    "        if qaoa:\n",
    "            # For QAOA, different layers have different gate parameters\n",
    "            qs_circ0, swaps1 = router.run_qaoa(layers=layers, gammas=params[layers-1][:layers], betas=params[layers-1][layers:], msmt=True) \n",
    "        else:\n",
    "            # For quantum simulation circuits, we assume each layer has the same time steps\n",
    "            qs_circ0, swaps1 = router.run(layers=layers, msmt='True')\n",
    "        # qs_circ0 is the routed circuit without gate decomposition\n",
    "        # swaps1 is a tuple=(#swaps,#swaps merged with circuit gate)\n",
    "\n",
    "        # Two-qubit gate count and swap count\n",
    "        qs_circ1 = transpile(qs_circ0, basis_gates=None, optimization_level=3)\n",
    "        g2_count1 = 0\n",
    "        if bgate in qs_circ1.count_ops():\n",
    "            g2_count1 += qs_circ1.count_ops()[bgate]\n",
    "        if 'unitary' in qs_circ1.count_ops():\n",
    "            g2_count1 += qs_circ1.count_ops()['unitary']\n",
    "        if 'swap' in qs_circ1.count_ops():\n",
    "            g2_count1 += qs_circ1.count_ops()['swap']\n",
    "        if trial == 0:\n",
    "            qs_circ = qs_circ1\n",
    "            qs_swap = swaps1\n",
    "            qs_g2 = g2_count1 \n",
    "        elif g2_count1 < qs_g2:\n",
    "            qs_circ = qs_circ1\n",
    "            qs_swap = swaps1\n",
    "            qs_g2 = g2_count1\n",
    "        print(g2_count1, qs_swap)\n",
    "    return qs_circ, qs_swap, qs_g2\n",
    "\n",
    "def qiskit_decompose(circ, basis_gates=['id', 'rz', 'u3', 'u2', 'cx', 'reset'], bgate='cx'):\n",
    "    # Perform gate decomposition and optimization into cx gate set\n",
    "    # For decomposition into other gate sets, e.g., the SYC, sqrt iSWAP, iSWAP, \n",
    "    # one can use Google Cirq for decomposition or the NuOp (https://github.com/prakashmurali/NuOp) decomposer\n",
    "    decom_g2 = 0\n",
    "    decom_circ = transpile(circ, basis_gates=basis_gates, optimization_level=3)\n",
    "    if bgate in decom_circ.count_ops():\n",
    "        decom_g2 += decom_circ.count_ops()[bgate] \n",
    "    if 'unitary' in decom_circ.count_ops().keys():\n",
    "        decom_g2 += decom_circ.count_ops()['unitary']\n",
    "    return decom_circ, decom_g2"
   ]
  },
  {
   "cell_type": "markdown",
   "metadata": {},
   "source": [
    "## Tests"
   ]
  },
  {
   "cell_type": "code",
   "execution_count": 5,
   "metadata": {},
   "outputs": [],
   "source": [
    "import os\n",
    "import pickle as pkl\n",
    "# Benchmarks\n",
    "qaoa = True\n",
    "# QAOA benchmarks\n",
    "# OpenQASM circuits here only contain one layer/depth\n",
    "with open(os.path.join('qaoa_qasms.pkl'), 'rb') as f:\n",
    "    qasms = pkl.load(f)\n",
    "# The parameters here include gammas for rzz and betas for rx in 4 layers\n",
    "with open(os.path.join('qaoa_params.pkl'), 'rb') as f:\n",
    "    params = pkl.load(f)\n",
    "    \n",
    "param = None\n",
    "idx = -2  # circuit id\n",
    "c_qasm = qasms[idx]\n",
    "if qaoa:\n",
    "    param = params[idx]\n",
    "test_circ = qiskit.QuantumCircuit.from_qasm_str(c_qasm)"
   ]
  },
  {
   "cell_type": "code",
   "execution_count": 6,
   "metadata": {},
   "outputs": [
    {
     "name": "stdout",
     "output_type": "stream",
     "text": [
      "The number of qubits is  20\n"
     ]
    }
   ],
   "source": [
    "# Device information\n",
    "# gate set, assume cx as the native two-qubit gate\n",
    "basis_gates = ['id', 'rz', 'u3', 'u2', 'cx', 'reset']\n",
    "\n",
    "# topology, assume grid architecture as an example\n",
    "qn = len(test_circ.qubits)\n",
    "dx = int(np.sqrt(qn))\n",
    "print('The number of qubits is ', qn)\n",
    "if dx*dx >= qn:\n",
    "    lattice_xy = (dx, dx)\n",
    "elif dx*(dx+1) >= qn:\n",
    "    lattice_xy = (dx, dx+1)\n",
    "elif dx*(dx+2) >= qn:\n",
    "    lattice_xy = (dx, dx+2)\n",
    "grid_topology = BenchArch(c_qasm, lattice_xy=lattice_xy).topology\n",
    "coupling_map = [list(edge) for edge in list(grid_topology.edges)]\n",
    "coupling_map += [[edge[1], edge[0]] for edge in list(grid_topology.edges)]"
   ]
  },
  {
   "cell_type": "markdown",
   "metadata": {},
   "source": [
    "## QAP mapper + 2QAN routing&scheduling"
   ]
  },
  {
   "cell_type": "code",
   "execution_count": null,
   "metadata": {},
   "outputs": [
    {
     "name": "stdout",
     "output_type": "stream",
     "text": [
      "Mapper run time:  13.592903852462769\n",
      "The initial qubit map is \n",
      " {0: 4, 1: 7, 2: 18, 3: 11, 4: 16, 5: 15, 6: 12, 7: 9, 8: 2, 9: 1, 10: 17, 11: 3, 12: 5, 13: 0, 14: 14, 15: 10, 16: 13, 17: 6, 18: 8, 19: 19}\n",
      "36 (6, 0)\n",
      "Mapper run time:  13.985751628875732\n",
      "The initial qubit map is \n",
      " {0: 10, 1: 14, 2: 13, 3: 19, 4: 4, 5: 18, 6: 0, 7: 1, 8: 7, 9: 2, 10: 12, 11: 3, 12: 5, 13: 6, 14: 17, 15: 15, 16: 8, 17: 11, 18: 9, 19: 16}\n",
      "33 (7, 4)\n",
      "Mapper run time:  14.517908811569214\n",
      "The initial qubit map is \n",
      " {0: 12, 1: 10, 2: 2, 3: 11, 4: 1, 5: 7, 6: 5, 7: 9, 8: 18, 9: 13, 10: 0, 11: 14, 12: 17, 13: 16, 14: 3, 15: 15, 16: 4, 17: 19, 18: 8, 19: 6}\n",
      "33 (7, 4)\n"
     ]
    }
   ],
   "source": [
    "qs_circ, qs_swap, qs_g2 = qs_compiler(c_qasm, coupling_map, qaoa=qaoa, layers=1, trials=5, bgate='rzz', params=param)\n",
    "print('The number of SWAPs: ', qs_swap, qs_g2)"
   ]
  },
  {
   "cell_type": "code",
   "execution_count": null,
   "metadata": {},
   "outputs": [],
   "source": [
    "qs_circ2, qs_g2 = qiskit_decompose(qs_circ, bgate='cx', basis_gates=basis_gates)\n",
    "print('The number of CNOTs: ', qs_g2)"
   ]
  },
  {
   "cell_type": "markdown",
   "metadata": {},
   "source": [
    "## Qiskit SABRE mapper + 2QAN routing&scheduling"
   ]
  },
  {
   "cell_type": "code",
   "execution_count": null,
   "metadata": {},
   "outputs": [],
   "source": [
    "ibm_circ, ibm_swap, ibm_g2 = qs_compiler(c_qasm, coupling_map, qaoa=qaoa, layers=1, trials=5, mapper='qiskit', bgate='rzz', params=param)\n",
    "print('The number of SWAPs: ', ibm_swap, ibm_g2)"
   ]
  },
  {
   "cell_type": "code",
   "execution_count": null,
   "metadata": {},
   "outputs": [],
   "source": [
    "ibm_circ2, ibm_g2 = qiskit_decompose(ibm_circ, bgate='cx', basis_gates=basis_gates)\n",
    "print('The number of CNOTs: ', ibm_g2)"
   ]
  },
  {
   "cell_type": "markdown",
   "metadata": {},
   "source": [
    "## Qiskit compiler"
   ]
  },
  {
   "cell_type": "code",
   "execution_count": null,
   "metadata": {},
   "outputs": [],
   "source": [
    "# test_circ only has one layer in the given example\n",
    "qiskit_circ = transpile(test_circ, basis_gates=basis_gates, coupling_map=coupling_map, optimization_level=3)\n",
    "print('The number of CNOTs: ', qiskit_circ.count_ops()['cx'])"
   ]
  }
 ],
 "metadata": {
  "kernelspec": {
   "display_name": "Python 3",
   "language": "python",
   "name": "python3"
  },
  "language_info": {
   "codemirror_mode": {
    "name": "ipython",
    "version": 3
   },
   "file_extension": ".py",
   "mimetype": "text/x-python",
   "name": "python",
   "nbconvert_exporter": "python",
   "pygments_lexer": "ipython3",
   "version": "3.8.5"
  }
 },
 "nbformat": 4,
 "nbformat_minor": 4
}
