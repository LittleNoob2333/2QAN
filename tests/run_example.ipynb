{
 "cells": [
  {
   "cell_type": "code",
   "execution_count": 1,
   "metadata": {},
   "outputs": [],
   "source": [
    "import numpy as np\n",
    "import time"
   ]
  },
  {
   "cell_type": "code",
   "execution_count": 4,
   "metadata": {},
   "outputs": [
    {
     "ename": "ModuleNotFoundError",
     "evalue": "No module named 'bench_arch'",
     "output_type": "error",
     "traceback": [
      "\u001b[1;31m------------------------------------------------------------------\u001b[0m",
      "\u001b[1;31mModuleNotFoundError\u001b[0m              Traceback (most recent call last)",
      "\u001b[1;32m<ipython-input-4-1025b513c518>\u001b[0m in \u001b[0;36m<module>\u001b[1;34m\u001b[0m\n\u001b[0;32m      1\u001b[0m \u001b[1;31m# Import 2QAN compiler passes\u001b[0m\u001b[1;33m\u001b[0m\u001b[1;33m\u001b[0m\u001b[1;33m\u001b[0m\u001b[0m\n\u001b[1;32m----> 2\u001b[1;33m \u001b[1;32mfrom\u001b[0m \u001b[0mpy2qan\u001b[0m \u001b[1;32mimport\u001b[0m \u001b[0mBenchArch\u001b[0m\u001b[1;33m\u001b[0m\u001b[1;33m\u001b[0m\u001b[0m\n\u001b[0m\u001b[0;32m      3\u001b[0m \u001b[1;32mfrom\u001b[0m \u001b[0mpy2qan\u001b[0m \u001b[1;32mimport\u001b[0m \u001b[0mHeuristicMapper\u001b[0m\u001b[1;33m\u001b[0m\u001b[1;33m\u001b[0m\u001b[0m\n\u001b[0;32m      4\u001b[0m \u001b[1;32mfrom\u001b[0m \u001b[0mpy2qan\u001b[0m \u001b[1;32mimport\u001b[0m \u001b[0mQuRouter\u001b[0m\u001b[1;33m\u001b[0m\u001b[1;33m\u001b[0m\u001b[0m\n",
      "\u001b[1;32mC:\\ProgramData\\Anaconda3\\lib\\site-packages\\py2qan\\__init__.py\u001b[0m in \u001b[0;36m<module>\u001b[1;34m\u001b[0m\n\u001b[1;32m----> 1\u001b[1;33m \u001b[1;32mfrom\u001b[0m \u001b[0mbench_arch\u001b[0m \u001b[1;32mimport\u001b[0m \u001b[0mBenchArch\u001b[0m\u001b[1;33m\u001b[0m\u001b[1;33m\u001b[0m\u001b[0m\n\u001b[0m\u001b[0;32m      2\u001b[0m \u001b[1;32mfrom\u001b[0m \u001b[0mheuristic_mapper\u001b[0m \u001b[1;32mimport\u001b[0m \u001b[0mHeuristicMapper\u001b[0m\u001b[1;33m\u001b[0m\u001b[1;33m\u001b[0m\u001b[0m\n\u001b[0;32m      3\u001b[0m \u001b[1;32mfrom\u001b[0m \u001b[0mqrouter_depth\u001b[0m \u001b[1;32mimport\u001b[0m \u001b[0mQuRouter\u001b[0m\u001b[1;33m\u001b[0m\u001b[1;33m\u001b[0m\u001b[0m\n",
      "\u001b[1;31mModuleNotFoundError\u001b[0m: No module named 'bench_arch'"
     ]
    }
   ],
   "source": [
    "# Import 2QAN compiler passes\n",
    "from py2qan import BenchArch\n",
    "from py2qan import HeuristicMapper\n",
    "from py2qan import QuRouter"
   ]
  },
  {
   "cell_type": "code",
   "execution_count": 3,
   "metadata": {},
   "outputs": [],
   "source": [
    "# Import qiskit \n",
    "import qiskit\n",
    "from qiskit import transpile, QuantumCircuit"
   ]
  },
  {
   "cell_type": "markdown",
   "metadata": {},
   "source": [
    "## Run 2QAN compiler passes"
   ]
  },
  {
   "cell_type": "code",
   "execution_count": 20,
   "metadata": {},
   "outputs": [],
   "source": [
    "def qs_compiler(qasm, coupling_map, qaoa=True, layers=1, trials=1, mapper='qap', bgate='rzz', params=None):\n",
    "    qs_circ = None\n",
    "    qs_swap = (0, 0) # the number of swaps in the format (#swaps,#swaps merged with circuit gate)\n",
    "    qs_g2 = 0 # the number of two-qubit gates without decomposition\n",
    "    # Perform qubit mapping, routing, and scheduling only, without gate decomposition\n",
    "    for trial in range(trials):\n",
    "        # Both QAP and Qiskit mappers output inital qubit maps randomly, \n",
    "        # one can run the mapper several times to achieve better compilation results\n",
    "        # Initial qubit mapping \n",
    "        start = time.time()\n",
    "        hmapper = HeuristicMapper(qasm, coupling_map=coupling_map)\n",
    "        if mapper == 'qap':\n",
    "            # The default mapper based on Quadratic Assignment Problem\n",
    "            init_map, cost = hmapper.run_qap(num_iter=200, lst_len=20)\n",
    "        elif mapper == 'qiskit':\n",
    "            # The mapper in Qiskit\n",
    "            init_map = hmapper.run_qiskit(max_iterations=5)\n",
    "        end = time.time()\n",
    "        print(\"Mapper run time: \", end - start)\n",
    "        # init_map = {circuit qubit index:device qubit index}\n",
    "        print('The initial qubit map is \\n', init_map)\n",
    "\n",
    "        # Routing and scheduling, takes init_map as input\n",
    "        router = QuRouter(qasm, init_map=init_map, coupling_map=coupling_map)\n",
    "        if qaoa:\n",
    "            # For QAOA, different layers have different gate parameters\n",
    "            qs_circ0, swaps1 = router.run_qaoa(layers=layers, gammas=params[layers-1][:layers], betas=params[layers-1][layers:], msmt=True) \n",
    "        else:\n",
    "            # For quantum simulation circuits, we assume each layer has the same time steps\n",
    "            qs_circ0, swaps1 = router.run(layers=layers, msmt='True')\n",
    "        # qs_circ0 is the routed circuit without gate decomposition\n",
    "        # swaps1 is a tuple=(#swaps,#swaps merged with circuit gate)\n",
    "\n",
    "        # Two-qubit gate count and swap count\n",
    "        qs_circ1 = transpile(qs_circ0, basis_gates=None, optimization_level=3)\n",
    "        g2_count1 = 0\n",
    "        if bgate in qs_circ1.count_ops():\n",
    "            g2_count1 += qs_circ1.count_ops()[bgate]\n",
    "        if 'unitary' in qs_circ1.count_ops():\n",
    "            g2_count1 += qs_circ1.count_ops()['unitary']\n",
    "        if 'swap' in qs_circ1.count_ops():\n",
    "            g2_count1 += qs_circ1.count_ops()['swap']\n",
    "        if trial == 0:\n",
    "            qs_circ = qs_circ1\n",
    "            qs_swap = swaps1\n",
    "            qs_g2 = g2_count1 \n",
    "        elif g2_count1 < qs_g2:\n",
    "            qs_circ = qs_circ1\n",
    "            qs_swap = swaps1\n",
    "            qs_g2 = g2_count1\n",
    "        print(g2_count1, qs_swap)\n",
    "    return qs_circ, qs_swap, qs_g2\n",
    "\n",
    "def qiskit_decompose(circ, basis_gates=['id', 'rz', 'u3', 'u2', 'cx', 'reset'], bgate='cx'):\n",
    "    # Perform gate decomposition and optimization into cx gate set\n",
    "    # For decomposition into other gate sets, e.g., the SYC, sqrt iSWAP, iSWAP, \n",
    "    # one can use Google Cirq for decomposition or the NuOp (https://github.com/prakashmurali/NuOp) decomposer\n",
    "    decom_g2 = 0\n",
    "    decom_circ = transpile(circ, basis_gates=basis_gates, optimization_level=3)\n",
    "    if bgate in decom_circ.count_ops():\n",
    "        decom_g2 += decom_circ.count_ops()[bgate] \n",
    "    if 'unitary' in decom_circ.count_ops().keys():\n",
    "        decom_g2 += decom_circ.count_ops()['unitary']\n",
    "    return decom_circ, decom_g2"
   ]
  },
  {
   "cell_type": "markdown",
   "metadata": {},
   "source": [
    "## Tests"
   ]
  },
  {
   "cell_type": "code",
   "execution_count": 30,
   "metadata": {},
   "outputs": [],
   "source": [
    "import os\n",
    "import pickle as pkl\n",
    "# Benchmarks\n",
    "qaoa = True\n",
    "# QAOA benchmarks\n",
    "# OpenQASM circuits here only contain one layer/depth\n",
    "with open(os.path.join('qaoa_qasms.pkl'), 'rb') as f:\n",
    "    qasms = pkl.load(f)\n",
    "# The parameters here include gammas for rzz and betas for rx in 4 layers\n",
    "with open(os.path.join('qaoa_params.pkl'), 'rb') as f:\n",
    "    params = pkl.load(f)\n",
    "    \n",
    "param = None\n",
    "idx = -2  # circuit id\n",
    "c_qasm = qasms[idx]\n",
    "if qaoa:\n",
    "    param = params[idx]\n",
    "test_circ = qiskit.QuantumCircuit.from_qasm_str(c_qasm)"
   ]
  },
  {
   "cell_type": "code",
   "execution_count": 6,
   "metadata": {},
   "outputs": [
    {
     "name": "stdout",
     "output_type": "stream",
     "text": [
      "The number of qubits is  20\n"
     ]
    }
   ],
   "source": [
    "# Device information\n",
    "# gate set, assume cx as the native two-qubit gate\n",
    "basis_gates = ['id', 'rz', 'u3', 'u2', 'cx', 'reset']\n",
    "\n",
    "# topology, assume grid architecture as an example\n",
    "qn = len(test_circ.qubits)\n",
    "dx = int(np.sqrt(qn))\n",
    "print('The number of qubits is ', qn)\n",
    "if dx*dx >= qn:\n",
    "    lattice_xy = (dx, dx)\n",
    "elif dx*(dx+1) >= qn:\n",
    "    lattice_xy = (dx, dx+1)\n",
    "elif dx*(dx+2) >= qn:\n",
    "    lattice_xy = (dx, dx+2)\n",
    "grid_topology = BenchArch(c_qasm, lattice_xy=lattice_xy).topology\n",
    "coupling_map = [list(edge) for edge in list(grid_topology.edges)]\n",
    "coupling_map += [[edge[1], edge[0]] for edge in list(grid_topology.edges)]"
   ]
  },
  {
   "cell_type": "markdown",
   "metadata": {},
   "source": [
    "## QAP mapper + 2QAN routing&scheduling"
   ]
  },
  {
   "cell_type": "code",
   "execution_count": 24,
   "metadata": {},
   "outputs": [
    {
     "name": "stdout",
     "output_type": "stream",
     "text": [
      "Mapper run time:  13.515033960342407\n",
      "The initial qubit map is \n",
      " {0: 9, 1: 18, 2: 4, 3: 17, 4: 1, 5: 16, 6: 2, 7: 3, 8: 15, 9: 11, 10: 0, 11: 19, 12: 7, 13: 10, 14: 12, 15: 13, 16: 6, 17: 14, 18: 5, 19: 8}\n",
      "34 (11, 7)\n",
      "Mapper run time:  15.803452968597412\n",
      "The initial qubit map is \n",
      " {0: 10, 1: 12, 2: 1, 3: 8, 4: 3, 5: 4, 6: 11, 7: 15, 8: 17, 9: 19, 10: 2, 11: 16, 12: 14, 13: 18, 14: 5, 15: 9, 16: 7, 17: 13, 18: 6, 19: 0}\n",
      "33 (8, 5)\n",
      "Mapper run time:  14.26235556602478\n",
      "The initial qubit map is \n",
      " {0: 15, 1: 6, 2: 5, 3: 2, 4: 8, 5: 0, 6: 16, 7: 17, 8: 11, 9: 18, 10: 9, 11: 10, 12: 14, 13: 19, 14: 1, 15: 3, 16: 13, 17: 7, 18: 12, 19: 4}\n",
      "37 (8, 5)\n",
      "Mapper run time:  13.522371053695679\n",
      "The initial qubit map is \n",
      " {0: 8, 1: 14, 2: 15, 3: 6, 4: 16, 5: 7, 6: 17, 7: 13, 8: 1, 9: 9, 10: 19, 11: 10, 12: 5, 13: 4, 14: 3, 15: 2, 16: 18, 17: 0, 18: 12, 19: 11}\n",
      "34 (8, 5)\n",
      "Mapper run time:  13.557611227035522\n",
      "The initial qubit map is \n",
      " {0: 7, 1: 4, 2: 17, 3: 8, 4: 18, 5: 12, 6: 14, 7: 10, 8: 1, 9: 6, 10: 19, 11: 0, 12: 2, 13: 3, 14: 13, 15: 9, 16: 15, 17: 5, 18: 11, 19: 16}\n",
      "34 (8, 5)\n",
      "The number of SWAPs:  (8, 5) 33\n"
     ]
    }
   ],
   "source": [
    "qs_circ, qs_swap, qs_g2 = qs_compiler(c_qasm, coupling_map, qaoa=qaoa, layers=1, trials=5, bgate='rzz', params=param)\n",
    "print('The number of SWAPs: ', qs_swap, qs_g2)"
   ]
  },
  {
   "cell_type": "code",
   "execution_count": 27,
   "metadata": {},
   "outputs": [
    {
     "name": "stdout",
     "output_type": "stream",
     "text": [
      "The number of CNOTs:  74\n"
     ]
    }
   ],
   "source": [
    "qs_circ2, qs_g2 = qiskit_decompose(qs_circ, bgate='cx', basis_gates=basis_gates)\n",
    "print('The number of CNOTs: ', qs_g2)"
   ]
  },
  {
   "cell_type": "markdown",
   "metadata": {},
   "source": [
    "## Qiskit SABRE mapper + 2QAN routing&scheduling"
   ]
  },
  {
   "cell_type": "code",
   "execution_count": 25,
   "metadata": {},
   "outputs": [
    {
     "name": "stdout",
     "output_type": "stream",
     "text": [
      "Mapper run time:  0.30110716819763184\n",
      "The initial qubit map is \n",
      " {0: 8, 1: 10, 2: 11, 3: 0, 4: 12, 5: 7, 6: 13, 7: 16, 8: 5, 9: 14, 10: 15, 11: 6, 12: 9, 13: 17, 14: 2, 15: 1, 16: 19, 17: 4, 18: 18, 19: 3}\n",
      "37 (15, 8)\n",
      "Mapper run time:  0.21735572814941406\n",
      "The initial qubit map is \n",
      " {0: 7, 1: 12, 2: 16, 3: 14, 4: 4, 5: 17, 6: 8, 7: 9, 8: 10, 9: 2, 10: 13, 11: 5, 12: 6, 13: 3, 14: 19, 15: 15, 16: 0, 17: 11, 18: 1, 19: 18}\n",
      "36 (9, 3)\n",
      "Mapper run time:  0.21683311462402344\n",
      "The initial qubit map is \n",
      " {0: 13, 1: 14, 2: 18, 3: 12, 4: 11, 5: 9, 6: 7, 7: 3, 8: 5, 9: 1, 10: 15, 11: 0, 12: 4, 13: 2, 14: 17, 15: 16, 16: 10, 17: 8, 18: 6, 19: 19}\n",
      "39 (9, 3)\n",
      "Mapper run time:  0.24787020683288574\n",
      "The initial qubit map is \n",
      " {0: 18, 1: 5, 2: 4, 3: 13, 4: 15, 5: 8, 6: 14, 7: 6, 8: 10, 9: 1, 10: 3, 11: 0, 12: 9, 13: 2, 14: 16, 15: 17, 16: 7, 17: 19, 18: 11, 19: 12}\n",
      "41 (9, 3)\n",
      "Mapper run time:  0.2088031768798828\n",
      "The initial qubit map is \n",
      " {0: 10, 1: 6, 2: 7, 3: 4, 4: 19, 5: 1, 6: 18, 7: 17, 8: 13, 9: 12, 10: 11, 11: 8, 12: 16, 13: 5, 14: 2, 15: 0, 16: 14, 17: 9, 18: 15, 19: 3}\n",
      "35 (8, 3)\n",
      "The number of SWAPs:  (8, 3) 35\n"
     ]
    }
   ],
   "source": [
    "ibm_circ, ibm_swap, ibm_g2 = qs_compiler(c_qasm, coupling_map, qaoa=qaoa, layers=1, trials=5, mapper='qiskit', bgate='rzz', params=param)\n",
    "print('The number of SWAPs: ', ibm_swap, ibm_g2)"
   ]
  },
  {
   "cell_type": "code",
   "execution_count": 26,
   "metadata": {},
   "outputs": [
    {
     "name": "stdout",
     "output_type": "stream",
     "text": [
      "The number of CNOTs:  78\n"
     ]
    }
   ],
   "source": [
    "ibm_circ2, ibm_g2 = qiskit_decompose(ibm_circ, bgate='cx', basis_gates=basis_gates)\n",
    "print('The number of CNOTs: ', ibm_g2)"
   ]
  },
  {
   "cell_type": "markdown",
   "metadata": {},
   "source": [
    "## Qiskit compiler"
   ]
  },
  {
   "cell_type": "code",
   "execution_count": 28,
   "metadata": {},
   "outputs": [
    {
     "name": "stdout",
     "output_type": "stream",
     "text": [
      "The number of CNOTs:  94\n"
     ]
    }
   ],
   "source": [
    "# test_circ only has one layer in the given example\n",
    "qiskit_circ = transpile(test_circ, basis_gates=basis_gates, coupling_map=coupling_map, optimization_level=3)\n",
    "print('The number of CNOTs: ', qiskit_circ.count_ops()['cx'])"
   ]
  }
 ],
 "metadata": {
  "kernelspec": {
   "display_name": "Python 3",
   "language": "python",
   "name": "python3"
  },
  "language_info": {
   "codemirror_mode": {
    "name": "ipython",
    "version": 3
   },
   "file_extension": ".py",
   "mimetype": "text/x-python",
   "name": "python",
   "nbconvert_exporter": "python",
   "pygments_lexer": "ipython3",
   "version": "3.8.5"
  }
 },
 "nbformat": 4,
 "nbformat_minor": 4
}
